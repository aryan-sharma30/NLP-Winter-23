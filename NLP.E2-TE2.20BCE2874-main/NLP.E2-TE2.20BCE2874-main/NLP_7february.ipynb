{
 "cells": [
  {
   "cell_type": "code",
   "execution_count": 8,
   "id": "79449cb9",
   "metadata": {},
   "outputs": [],
   "source": [
    "from urllib import request\n"
   ]
  },
  {
   "cell_type": "code",
   "execution_count": 9,
   "id": "b15220bf",
   "metadata": {},
   "outputs": [],
   "source": [
    "url=\"https://www.gutenberg.org/cache/epub/69970/pg69970.txt\""
   ]
  },
  {
   "cell_type": "code",
   "execution_count": 10,
   "id": "64548385",
   "metadata": {},
   "outputs": [],
   "source": [
    "response=request.urlopen(url)"
   ]
  },
  {
   "cell_type": "code",
   "execution_count": 14,
   "id": "463271df",
   "metadata": {},
   "outputs": [],
   "source": [
    "raw=response.read().decode('utf8')"
   ]
  },
  {
   "cell_type": "code",
   "execution_count": 18,
   "id": "ea80a78b",
   "metadata": {},
   "outputs": [
    {
     "name": "stderr",
     "output_type": "stream",
     "text": [
      "[nltk_data] Downloading package punkt to\n",
      "[nltk_data]     C:\\Users\\91991\\AppData\\Roaming\\nltk_data...\n",
      "[nltk_data]   Package punkt is already up-to-date!\n"
     ]
    }
   ],
   "source": [
    "import nltk\n",
    "nltk.download('punkt')\n",
    "from nltk.tokenize import word_tokenize\n",
    "\n",
    "tokens = word_tokenize(raw)"
   ]
  },
  {
   "cell_type": "code",
   "execution_count": 19,
   "id": "2dc12802",
   "metadata": {},
   "outputs": [
    {
     "name": "stdout",
     "output_type": "stream",
     "text": [
      "[]\n"
     ]
    }
   ],
   "source": [
    "print(tokens[:20])"
   ]
  },
  {
   "cell_type": "code",
   "execution_count": 21,
   "id": "e188440b",
   "metadata": {},
   "outputs": [
    {
     "data": {
      "text/plain": [
       "'happi'"
      ]
     },
     "execution_count": 21,
     "metadata": {},
     "output_type": "execute_result"
    }
   ],
   "source": [
    "from nltk.stem import PorterStemmer\n",
    "porter = PorterStemmer()\n",
    "porter.stem(\"happiness\")"
   ]
  },
  {
   "cell_type": "code",
   "execution_count": 22,
   "id": "6fa9fa6b",
   "metadata": {},
   "outputs": [
    {
     "ename": "ImportError",
     "evalue": "cannot import name 'LancasterStemmmer' from 'nltk.stem' (C:\\Users\\91991\\anaconda3\\lib\\site-packages\\nltk\\stem\\__init__.py)",
     "output_type": "error",
     "traceback": [
      "\u001b[1;31m---------------------------------------------------------------------------\u001b[0m",
      "\u001b[1;31mImportError\u001b[0m                               Traceback (most recent call last)",
      "\u001b[1;32m~\\AppData\\Local\\Temp\\ipykernel_10592\\2409690516.py\u001b[0m in \u001b[0;36m<module>\u001b[1;34m\u001b[0m\n\u001b[1;32m----> 1\u001b[1;33m \u001b[1;32mfrom\u001b[0m \u001b[0mnltk\u001b[0m\u001b[1;33m.\u001b[0m\u001b[0mstem\u001b[0m \u001b[1;32mimport\u001b[0m \u001b[0mLancasterStemmmer\u001b[0m\u001b[1;33m\u001b[0m\u001b[1;33m\u001b[0m\u001b[0m\n\u001b[0m\u001b[0;32m      2\u001b[0m \u001b[0mporter\u001b[0m\u001b[1;33m=\u001b[0m\u001b[0mLancasterStemmer\u001b[0m\u001b[1;33m(\u001b[0m\u001b[1;33m)\u001b[0m\u001b[1;33m\u001b[0m\u001b[1;33m\u001b[0m\u001b[0m\n\u001b[0;32m      3\u001b[0m \u001b[0mporter\u001b[0m\u001b[1;33m.\u001b[0m\u001b[0mstem\u001b[0m\u001b[1;33m(\u001b[0m\u001b[1;34m\"happiness\"\u001b[0m\u001b[1;33m)\u001b[0m\u001b[1;33m\u001b[0m\u001b[1;33m\u001b[0m\u001b[0m\n",
      "\u001b[1;31mImportError\u001b[0m: cannot import name 'LancasterStemmmer' from 'nltk.stem' (C:\\Users\\91991\\anaconda3\\lib\\site-packages\\nltk\\stem\\__init__.py)"
     ]
    }
   ],
   "source": [
    "from nltk.stem import LancasterStemmmer\n",
    "porter=LancasterStemmer()\n",
    "porter.stem(\"happiness\")"
   ]
  },
  {
   "cell_type": "code",
   "execution_count": 23,
   "id": "957abbb9",
   "metadata": {},
   "outputs": [
    {
     "data": {
      "text/plain": [
       "'s'"
      ]
     },
     "execution_count": 23,
     "metadata": {},
     "output_type": "execute_result"
    }
   ],
   "source": [
    "from nltk.stem import RegexpStemmer\n",
    "porter = RegexpStemmer('ing')\n",
    "porter.stem('singing')#cling ring\n"
   ]
  },
  {
   "cell_type": "code",
   "execution_count": 24,
   "id": "b69e50b1",
   "metadata": {},
   "outputs": [
    {
     "data": {
      "text/plain": [
       "'avoir'"
      ]
     },
     "execution_count": 24,
     "metadata": {},
     "output_type": "execute_result"
    }
   ],
   "source": [
    "from nltk.stem import SnowballStemmer\n",
    "porter= SnowballStemmer('french')\n",
    "porter.stem('avoir')#cling ring\n"
   ]
  },
  {
   "cell_type": "code",
   "execution_count": 25,
   "id": "6854fcc1",
   "metadata": {},
   "outputs": [],
   "source": [
    "porter = PorterStemmer()\n",
    "text=\" The figures of a horse and rider came slowly through the castle \"\n",
    "text=[porter.stem(token) for token in text.split(\" \")]\n",
    "#Lancaster is better\n",
    "\n",
    "\n"
   ]
  },
  {
   "cell_type": "code",
   "execution_count": 26,
   "id": "fd6b2f02",
   "metadata": {},
   "outputs": [
    {
     "name": "stdout",
     "output_type": "stream",
     "text": [
      " the figur of a hors and rider came slowli through the castl \n"
     ]
    }
   ],
   "source": [
    "\n",
    "print(\" \".join(text))"
   ]
  },
  {
   "cell_type": "code",
   "execution_count": null,
   "id": "a6de9d25",
   "metadata": {},
   "outputs": [],
   "source": []
  }
 ],
 "metadata": {
  "kernelspec": {
   "display_name": "Python 3 (ipykernel)",
   "language": "python",
   "name": "python3"
  },
  "language_info": {
   "codemirror_mode": {
    "name": "ipython",
    "version": 3
   },
   "file_extension": ".py",
   "mimetype": "text/x-python",
   "name": "python",
   "nbconvert_exporter": "python",
   "pygments_lexer": "ipython3",
   "version": "3.9.13"
  }
 },
 "nbformat": 4,
 "nbformat_minor": 5
}
